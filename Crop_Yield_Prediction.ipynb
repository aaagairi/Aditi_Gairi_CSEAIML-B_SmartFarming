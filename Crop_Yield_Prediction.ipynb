{
  "cells": [
    {
      "cell_type": "markdown",
      "metadata": {
        "id": "view-in-github",
        "colab_type": "text"
      },
      "source": [
        "<a href=\"https://colab.research.google.com/github/aaagairi/Aditi_Gairi_CSEAIML-B_SmartFarming/blob/main/Crop_Yield_Prediction.ipynb\" target=\"_parent\"><img src=\"https://colab.research.google.com/assets/colab-badge.svg\" alt=\"Open In Colab\"/></a>"
      ]
    },
    {
      "cell_type": "code",
      "execution_count": 7,
      "metadata": {
        "id": "n9X2PrmVFYoj"
      },
      "outputs": [],
      "source": [
        "# libraries\n",
        "import pandas as pd\n",
        "import numpy as np\n",
        "from sklearn.model_selection import train_test_split\n",
        "from sklearn.ensemble import RandomForestRegressor\n",
        "from sklearn.preprocessing import LabelEncoder, StandardScaler\n",
        "from sklearn.metrics import mean_absolute_error, r2_score"
      ]
    },
    {
      "cell_type": "code",
      "execution_count": 8,
      "metadata": {
        "id": "LMvVt6JXFhu8"
      },
      "outputs": [],
      "source": [
        "df = pd.read_csv('crop_yield.csv')\n",
        "# categorical variables\n",
        "label_encoders = {}\n",
        "categorical_cols = [\"Crop\", \"Season\", \"State\"]\n",
        "\n",
        "# Handle all known seasons\n",
        "expected_seasons = [\"Kharif\", \"Rabi\", \"Whole Year\", \"Summer\", \"Autumn\", \"Winter\"]\n",
        "\n",
        "for col in categorical_cols:\n",
        "    le = LabelEncoder()\n",
        "    if col == \"Season\":\n",
        "        le.fit(expected_seasons)\n",
        "        # Strip whitespace from Season column before transforming\n",
        "        df[\"Season\"] = df[\"Season\"].str.strip()\n",
        "    else:\n",
        "        le.fit(df[col])\n",
        "    df[f\"{col}_encoded\"] = le.transform(df[col])\n",
        "    label_encoders[col] = le"
      ]
    },
    {
      "cell_type": "code",
      "execution_count": 9,
      "metadata": {
        "id": "7yS0TddtFl4Q"
      },
      "outputs": [],
      "source": [
        "# Feature selection\n",
        "feature_cols = [\n",
        "    \"Area\", \"Annual_Rainfall\", \"Fertilizer\", \"Pesticide\",\n",
        "    \"Crop_encoded\", \"Season_encoded\", \"State_encoded\"\n",
        "]\n",
        "X = df[feature_cols].copy()\n",
        "y = df[\"Yield\"]"
      ]
    },
    {
      "cell_type": "code",
      "execution_count": 10,
      "metadata": {
        "id": "1dER0DuWFoHH"
      },
      "outputs": [],
      "source": [
        "# Scale numerical features\n",
        "scaler = StandardScaler()\n",
        "numerical_cols = [\"Area\", \"Annual_Rainfall\", \"Fertilizer\", \"Pesticide\"]\n",
        "X[numerical_cols] = scaler.fit_transform(X[numerical_cols])\n"
      ]
    },
    {
      "cell_type": "code",
      "execution_count": 11,
      "metadata": {
        "colab": {
          "base_uri": "https://localhost:8080/"
        },
        "id": "XTYSonmsFsxB",
        "outputId": "32cad03b-be6a-4646-ebcb-8c6901f1510b"
      },
      "outputs": [
        {
          "output_type": "stream",
          "name": "stdout",
          "text": [
            "\n",
            "Model Evaluation:\n",
            "R² Score: 0.978\n",
            "Mean Absolute Error: 9.644 tonnes/hectare\n"
          ]
        }
      ],
      "source": [
        "# split data\n",
        "X_train, X_test, y_train, y_test = train_test_split(\n",
        "    X, y, test_size=0.2, random_state=42\n",
        ")\n",
        "\n",
        "# train model\n",
        "model = RandomForestRegressor(n_estimators=100, random_state=42)\n",
        "model.fit(X_train, y_train)\n",
        "\n",
        "# evalutate model\n",
        "y_pred = model.predict(X_test)\n",
        "print(\"\\nModel Evaluation:\")\n",
        "print(f\"R² Score: {r2_score(y_test, y_pred):.3f}\")\n",
        "print(f\"Mean Absolute Error: {mean_absolute_error(y_test, y_pred):.3f} tonnes/hectare\")"
      ]
    },
    {
      "cell_type": "code",
      "execution_count": 12,
      "metadata": {
        "colab": {
          "base_uri": "https://localhost:8080/"
        },
        "id": "hwKqvdy2AZYU",
        "outputId": "f664a571-a538-438b-c49f-4d044541b70e"
      },
      "outputs": [
        {
          "output_type": "stream",
          "name": "stdout",
          "text": [
            "\n",
            "Enter details for yield prediction:\n",
            "\n",
            "Enter area (in hectares): 23\n",
            "Enter annual rainfall (in mm): 122\n",
            "Enter fertilizer used (in kg): 98\n",
            "Enter pesticide used (in kg): 23\n",
            "Enter crop name: Rice\n",
            "Enter season (Kharif, Rabi, Whole Year, Summer, Autumn, Winter): Rabi\n",
            "Enter state: Madhya Pradesh\n",
            "\n",
            "Predicted Yield: 437.28 tonnes/hectare\n"
          ]
        }
      ],
      "source": [
        "# User input\n",
        "def get_user_input():\n",
        "    print(\"\\nEnter details for yield prediction:\\n\")\n",
        "    area = float(input(\"Enter area (in hectares): \"))\n",
        "    rainfall = float(input(\"Enter annual rainfall (in mm): \"))\n",
        "    fertilizer = float(input(\"Enter fertilizer used (in kg): \"))\n",
        "    pesticide = float(input(\"Enter pesticide used (in kg): \"))\n",
        "\n",
        "    crop = input(\"Enter crop name: \").strip()\n",
        "    season = input(\"Enter season (Kharif, Rabi, Whole Year, Summer, Autumn, Winter): \").strip()\n",
        "    state = input(\"Enter state: \").strip()\n",
        "\n",
        "    return {\n",
        "        \"Area\": area,\n",
        "        \"Annual_Rainfall\": rainfall,\n",
        "        \"Fertilizer\": fertilizer,\n",
        "        \"Pesticide\": pesticide,\n",
        "        \"Crop\": crop,\n",
        "        \"Season\": season,\n",
        "        \"State\": state\n",
        "    }\n",
        "# Prediction\n",
        "def predict_crop_yield(example_input):\n",
        "    example = example_input.copy()\n",
        "    for col in [\"Crop\", \"Season\", \"State\"]:\n",
        "        le = label_encoders[col]\n",
        "        if example[col] not in le.classes_:\n",
        "            raise ValueError(f\"Unknown {col}: {example[col]}\")\n",
        "        example[f\"{col}_encoded\"] = le.transform([example[col]])[0]\n",
        "\n",
        "    # Df for compatability with scalar and model\n",
        "    features_df = pd.DataFrame([[\n",
        "        example[\"Area\"],\n",
        "        example[\"Annual_Rainfall\"],\n",
        "        example[\"Fertilizer\"],\n",
        "        example[\"Pesticide\"],\n",
        "        example[\"Crop_encoded\"],\n",
        "        example[\"Season_encoded\"],\n",
        "        example[\"State_encoded\"]\n",
        "    ]], columns=feature_cols)\n",
        "\n",
        "    # Scale numerical columns\n",
        "    features_df[numerical_cols] = scaler.transform(features_df[numerical_cols])\n",
        "\n",
        "    prediction = model.predict(features_df)[0]\n",
        "    print(f\"\\nPredicted Yield: {prediction:.2f} tonnes/hectare\")\n",
        "\n",
        "# Run\n",
        "try:\n",
        "    user_input = get_user_input()\n",
        "    predict_crop_yield(user_input)\n",
        "except ValueError as ve:\n",
        "    print(f\"Error: {ve}\")"
      ]
    }
  ],
  "metadata": {
    "colab": {
      "provenance": [],
      "include_colab_link": true
    },
    "kernelspec": {
      "display_name": "Python 3",
      "name": "python3"
    },
    "language_info": {
      "name": "python"
    }
  },
  "nbformat": 4,
  "nbformat_minor": 0
}