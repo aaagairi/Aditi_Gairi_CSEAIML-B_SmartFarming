{
  "cells": [
    {
      "cell_type": "markdown",
      "metadata": {
        "id": "view-in-github",
        "colab_type": "text"
      },
      "source": [
        "<a href=\"https://colab.research.google.com/github/aaagairi/Aditi_Gairi_CSEAIML-B_SmartFarming/blob/main/Weather_forecast_model.ipynb\" target=\"_parent\"><img src=\"https://colab.research.google.com/assets/colab-badge.svg\" alt=\"Open In Colab\"/></a>"
      ]
    },
    {
      "cell_type": "code",
      "source": [
        "#Libraries\n",
        "import requests\n",
        "import pandas as pd\n",
        "import numpy as np\n",
        "from sklearn.svm import SVR\n",
        "from sklearn.model_selection import train_test_split\n",
        "from sklearn.metrics import r2_score, mean_squared_error\n",
        "from datetime import datetime, timedelta"
      ],
      "metadata": {
        "id": "3c8swgfe9jt2"
      },
      "execution_count": null,
      "outputs": []
    },
    {
      "cell_type": "code",
      "source": [
        "#location\n",
        "def get_coordinates(city):\n",
        "    geo_url = f\"https://geocoding-api.open-meteo.com/v1/search?name={city}&count=1\"\n",
        "    response = requests.get(geo_url)\n",
        "    data = response.json()\n",
        "\n",
        "    if \"results\" in data and data[\"results\"]:\n",
        "        latitude = data[\"results\"][0][\"latitude\"]\n",
        "        longitude = data[\"results\"][0][\"longitude\"]\n",
        "        return latitude, longitude\n",
        "    else:\n",
        "        raise ValueError(\"City not found. Please try another city.\")"
      ],
      "metadata": {
        "id": "4zzHDu-49psH"
      },
      "execution_count": null,
      "outputs": []
    },
    {
      "cell_type": "code",
      "source": [
        "#api\n",
        "def fetch_weather_forecast(lat, lon):\n",
        "    api_url = (\n",
        "        f\"https://api.open-meteo.com/v1/forecast?\"\n",
        "        f\"latitude={lat}&longitude={lon}&daily=temperature_2m_max,\"\n",
        "        f\"precipitation_sum,windspeed_10m_max&forecast_days=7&timezone=Asia/Kolkata\"\n",
        "    )\n",
        "    response = requests.get(api_url)\n",
        "    weather = response.json()[\"daily\"]\n",
        "\n",
        "    df = pd.DataFrame({\n",
        "        \"date\": weather[\"time\"],\n",
        "        \"temperature\": weather[\"temperature_2m_max\"],\n",
        "        \"precipitation\": weather[\"precipitation_sum\"],\n",
        "        \"wind_speed\": weather[\"windspeed_10m_max\"]\n",
        "    })\n",
        "    return df"
      ],
      "metadata": {
        "id": "SfFxTh_f9wEY"
      },
      "execution_count": null,
      "outputs": []
    },
    {
      "cell_type": "code",
      "source": [
        "#alerts\n",
        "def generate_alerts(row):\n",
        "    alerts = []\n",
        "    if row[\"predicted_temperature\"] > 35:\n",
        "        alerts.append(\"High temperature – risk of crop heat stress\")\n",
        "    if row[\"precipitation\"] > 15:\n",
        "        alerts.append(\"Heavy rain – possible flooding or waterlogging\")\n",
        "    if row[\"wind_speed\"] > 30:\n",
        "        alerts.append(\"High wind – risk of crop damage\")\n",
        "    return alerts"
      ],
      "metadata": {
        "id": "ugfeAe_g97KC"
      },
      "execution_count": null,
      "outputs": []
    },
    {
      "cell_type": "code",
      "source": [
        "#user input & prediction\n",
        "city = input(\"Enter your city or village name: \")\n",
        "try:\n",
        "    latitude, longitude = get_coordinates(city)\n",
        "    df = fetch_weather_forecast(latitude, longitude)\n",
        "\n",
        "    X = df[[\"precipitation\", \"wind_speed\"]]\n",
        "    y = df[\"temperature\"]\n",
        "\n",
        "    X_train, X_test, y_train, y_test = train_test_split(X, y, test_size=0.3, random_state=42)\n",
        "\n",
        "    model = SVR()\n",
        "    model.fit(X_train, y_train)\n",
        "\n",
        "    y_pred = model.predict(X_test)\n",
        "    rmse = np.sqrt(mean_squared_error(y_test, y_pred))\n",
        "\n",
        "    print(\"\\nModel Performance:\")\n",
        "    print(\"R2 Score:\", r2_score(y_test, y_pred))\n",
        "    print(\"RMSE:\", rmse)\n",
        "\n",
        "    df[\"predicted_temperature\"] = model.predict(df[[\"precipitation\", \"wind_speed\"]])\n",
        "    df[\"alerts\"] = df.apply(generate_alerts, axis=1)\n",
        "\n",
        "    print(\"\\n7-Day Farming Forecast:\")\n",
        "    for _, row in df.iterrows():\n",
        "        print(f\"\\nDate: {row['date']}\")\n",
        "        print(f\"Predicted Temp: {row['predicted_temperature']:.2f}°C\")\n",
        "        print(f\"Rainfall: {row['precipitation']} mm\")\n",
        "        print(f\"Wind Speed: {row['wind_speed']} km/h\")\n",
        "        if row['alerts']:\n",
        "            print(\"⚠️ Alerts:\")\n",
        "            for alert in row['alerts']:\n",
        "                print(\" -\", alert)\n",
        "        else:\n",
        "            print(\"✅ No farming alerts\")\n",
        "\n",
        "except Exception as e:\n",
        "    print(\"Error:\", e)\n"
      ],
      "metadata": {
        "id": "73faS-yx-BV4",
        "outputId": "f8d4674d-3296-45c9-c4bd-4c35e3f467a9",
        "colab": {
          "base_uri": "https://localhost:8080/"
        }
      },
      "execution_count": null,
      "outputs": [
        {
          "output_type": "stream",
          "name": "stdout",
          "text": [
            "Enter your city or village name: Delhi\n",
            "\n",
            "Model Performance:\n",
            "R2 Score: -1.88761927763387\n",
            "RMSE: 2.0781229638774192\n",
            "\n",
            "7-Day Farming Forecast:\n",
            "\n",
            "Date: 2025-04-30\n",
            "Predicted Temp: 33.45°C\n",
            "Rainfall: 0.0 mm\n",
            "Wind Speed: 11.9 km/h\n",
            "✅ No farming alerts\n",
            "\n",
            "Date: 2025-05-01\n",
            "Predicted Temp: 33.41°C\n",
            "Rainfall: 0.0 mm\n",
            "Wind Speed: 16.6 km/h\n",
            "✅ No farming alerts\n",
            "\n",
            "Date: 2025-05-02\n",
            "Predicted Temp: 33.60°C\n",
            "Rainfall: 1.1 mm\n",
            "Wind Speed: 13.7 km/h\n",
            "✅ No farming alerts\n",
            "\n",
            "Date: 2025-05-03\n",
            "Predicted Temp: 32.25°C\n",
            "Rainfall: 8.2 mm\n",
            "Wind Speed: 11.8 km/h\n",
            "✅ No farming alerts\n",
            "\n",
            "Date: 2025-05-04\n",
            "Predicted Temp: 32.10°C\n",
            "Rainfall: 9.6 mm\n",
            "Wind Speed: 10.8 km/h\n",
            "✅ No farming alerts\n",
            "\n",
            "Date: 2025-05-05\n",
            "Predicted Temp: 32.09°C\n",
            "Rainfall: 10.5 mm\n",
            "Wind Speed: 9.8 km/h\n",
            "✅ No farming alerts\n",
            "\n",
            "Date: 2025-05-06\n",
            "Predicted Temp: 32.16°C\n",
            "Rainfall: 6.6 mm\n",
            "Wind Speed: 10.3 km/h\n",
            "✅ No farming alerts\n"
          ]
        }
      ]
    }
  ],
  "metadata": {
    "colab": {
      "provenance": [],
      "include_colab_link": true
    },
    "kernelspec": {
      "display_name": "Python 3",
      "name": "python3"
    },
    "language_info": {
      "name": "python"
    }
  },
  "nbformat": 4,
  "nbformat_minor": 0
}